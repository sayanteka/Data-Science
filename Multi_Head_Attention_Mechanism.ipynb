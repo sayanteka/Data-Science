{
  "nbformat": 4,
  "nbformat_minor": 0,
  "metadata": {
    "colab": {
      "provenance": []
    },
    "kernelspec": {
      "name": "python3",
      "display_name": "Python 3"
    },
    "language_info": {
      "name": "python"
    }
  },
  "cells": [
    {
      "cell_type": "code",
      "source": [
        "import numpy as np\n",
        "import torch\n",
        "import torch.nn as nn\n",
        "import torch.nn.functional as F"
      ],
      "metadata": {
        "id": "Cax9S5dK_hDy"
      },
      "execution_count": 20,
      "outputs": []
    },
    {
      "cell_type": "code",
      "source": [
        "sequence_length = 4\n",
        "batch_size = 1\n",
        "input_dim = 512\n",
        "d_model = 512\n",
        "x = torch.randn( (batch_size, sequence_length, input_dim) )\n",
        "x"
      ],
      "metadata": {
        "colab": {
          "base_uri": "https://localhost:8080/"
        },
        "id": "tjVfYSnI_wuj",
        "outputId": "4b1b8748-91a2-4cb2-d1e1-53acf9d14d2b"
      },
      "execution_count": 21,
      "outputs": [
        {
          "output_type": "execute_result",
          "data": {
            "text/plain": [
              "tensor([[[-0.7270, -0.8947, -2.7210,  ...,  0.5598,  1.1343,  1.3580],\n",
              "         [ 0.1639,  0.6001, -0.9782,  ...,  1.7738,  1.0832,  0.8257],\n",
              "         [-0.9060,  0.2155, -0.0517,  ..., -0.9455, -0.0815,  0.4568],\n",
              "         [ 0.3335, -1.1422,  0.6800,  ...,  0.2278,  0.2498, -0.2644]]])"
            ]
          },
          "metadata": {},
          "execution_count": 21
        }
      ]
    },
    {
      "cell_type": "code",
      "source": [
        "#4 tokens\n",
        "#Each token contains 512 features or embedding dim\n",
        "x.size()"
      ],
      "metadata": {
        "colab": {
          "base_uri": "https://localhost:8080/"
        },
        "id": "2ypCmgPGAcPW",
        "outputId": "d9b25b98-b203-4fda-a907-d941132d8ab3"
      },
      "execution_count": 22,
      "outputs": [
        {
          "output_type": "execute_result",
          "data": {
            "text/plain": [
              "torch.Size([1, 4, 512])"
            ]
          },
          "metadata": {},
          "execution_count": 22
        }
      ]
    },
    {
      "cell_type": "code",
      "source": [
        "qkv_layer = nn.Linear(input_dim , 3 * d_model)\n",
        "qkv = qkv_layer(x)\n",
        "qkv.shape\n",
        ""
      ],
      "metadata": {
        "colab": {
          "base_uri": "https://localhost:8080/"
        },
        "id": "bQTjVocuFuPc",
        "outputId": "84120820-0cdd-467f-e960-49e705e02c7a"
      },
      "execution_count": 23,
      "outputs": [
        {
          "output_type": "execute_result",
          "data": {
            "text/plain": [
              "torch.Size([1, 4, 1536])"
            ]
          },
          "metadata": {},
          "execution_count": 23
        }
      ]
    },
    {
      "cell_type": "code",
      "source": [
        "num_heads = 8\n",
        "head_dim = d_model // num_heads\n",
        "qkv = qkv.reshape(batch_size, sequence_length, num_heads, 3 * head_dim)\n",
        "qkv.shape"
      ],
      "metadata": {
        "colab": {
          "base_uri": "https://localhost:8080/"
        },
        "id": "OVTVDxL3KlZl",
        "outputId": "cd1e1a91-633d-4ca3-ac7e-484b2781cf98"
      },
      "execution_count": 24,
      "outputs": [
        {
          "output_type": "execute_result",
          "data": {
            "text/plain": [
              "torch.Size([1, 4, 8, 192])"
            ]
          },
          "metadata": {},
          "execution_count": 24
        }
      ]
    },
    {
      "cell_type": "code",
      "source": [
        "qkv = qkv.permute(0, 2, 1, 3) # [batch_size, num_heads, sequence_length, 3*head_dim]\n",
        "qkv.shape\n",
        "#4D tensor\n",
        "#in 1st head, there are 4 tokens\n",
        "#for each token,192 dim\n"
      ],
      "metadata": {
        "colab": {
          "base_uri": "https://localhost:8080/"
        },
        "id": "Uh7kgy-3MreH",
        "outputId": "da3b0352-0e28-4467-c0a9-a15b497d3459"
      },
      "execution_count": 25,
      "outputs": [
        {
          "output_type": "execute_result",
          "data": {
            "text/plain": [
              "torch.Size([1, 8, 4, 192])"
            ]
          },
          "metadata": {},
          "execution_count": 25
        }
      ]
    },
    {
      "cell_type": "code",
      "source": [
        "#Split a tensor along the last dimension into three equal parts\n",
        "q, k, v = qkv.chunk(3, dim=-1)\n",
        "q.shape, k.shape, v.shape"
      ],
      "metadata": {
        "colab": {
          "base_uri": "https://localhost:8080/"
        },
        "id": "_1MVTnp6Ol6y",
        "outputId": "e46cd857-3ef2-4984-9369-e109b9a5f44a"
      },
      "execution_count": 28,
      "outputs": [
        {
          "output_type": "execute_result",
          "data": {
            "text/plain": [
              "(torch.Size([1, 8, 4, 64]),\n",
              " torch.Size([1, 8, 4, 64]),\n",
              " torch.Size([1, 8, 4, 64]))"
            ]
          },
          "metadata": {},
          "execution_count": 28
        }
      ]
    },
    {
      "cell_type": "code",
      "source": [
        "d_k = q.size()[-1]\n",
        "d_k"
      ],
      "metadata": {
        "colab": {
          "base_uri": "https://localhost:8080/"
        },
        "id": "IdTkPsc_PH7A",
        "outputId": "2555006c-baa1-4d02-f92d-861ffd8b41d7"
      },
      "execution_count": 30,
      "outputs": [
        {
          "output_type": "execute_result",
          "data": {
            "text/plain": [
              "64"
            ]
          },
          "metadata": {},
          "execution_count": 30
        }
      ]
    },
    {
      "cell_type": "code",
      "source": [
        "l=k.transpose(-2,-1) #swap last 2 dimensions\n",
        "print(l.size())"
      ],
      "metadata": {
        "colab": {
          "base_uri": "https://localhost:8080/"
        },
        "id": "SfBc_KldQBN-",
        "outputId": "4b9b0af3-7138-492c-d1a2-13801ae250a3"
      },
      "execution_count": 32,
      "outputs": [
        {
          "output_type": "stream",
          "name": "stdout",
          "text": [
            "torch.Size([1, 8, 64, 4])\n"
          ]
        }
      ]
    },
    {
      "cell_type": "code",
      "source": [
        "import math\n",
        "scaled = torch.matmul(q, k.transpose(-2, -1)) / math.sqrt(d_k)\n",
        "scaled.shape"
      ],
      "metadata": {
        "colab": {
          "base_uri": "https://localhost:8080/"
        },
        "id": "JwJT6q7gP1xr",
        "outputId": "06b5aaf4-00b6-43a8-c451-faba8e015511"
      },
      "execution_count": 33,
      "outputs": [
        {
          "output_type": "execute_result",
          "data": {
            "text/plain": [
              "torch.Size([1, 8, 4, 4])"
            ]
          },
          "metadata": {},
          "execution_count": 33
        }
      ]
    },
    {
      "cell_type": "code",
      "source": [
        "mask = torch.full(scaled.size() , float('-inf'))\n",
        "mask = torch.triu(mask, diagonal=1)\n",
        "mask.shape"
      ],
      "metadata": {
        "colab": {
          "base_uri": "https://localhost:8080/"
        },
        "id": "WAYZ1BQtQmkX",
        "outputId": "aea67edd-203b-46b7-a33e-68cc1688274c"
      },
      "execution_count": 35,
      "outputs": [
        {
          "output_type": "execute_result",
          "data": {
            "text/plain": [
              "torch.Size([1, 8, 4, 4])"
            ]
          },
          "metadata": {},
          "execution_count": 35
        }
      ]
    },
    {
      "cell_type": "code",
      "source": [
        "#1st head #1st batch\n",
        "mask[0][0]"
      ],
      "metadata": {
        "colab": {
          "base_uri": "https://localhost:8080/"
        },
        "id": "iWNwcd_IQ74V",
        "outputId": "4ceaee88-9f5c-4a69-caa7-7a6f7cec8d85"
      },
      "execution_count": 37,
      "outputs": [
        {
          "output_type": "execute_result",
          "data": {
            "text/plain": [
              "tensor([[0., -inf, -inf, -inf],\n",
              "        [0., 0., -inf, -inf],\n",
              "        [0., 0., 0., -inf],\n",
              "        [0., 0., 0., 0.]])"
            ]
          },
          "metadata": {},
          "execution_count": 37
        }
      ]
    },
    {
      "cell_type": "code",
      "source": [
        "scaled += mask"
      ],
      "metadata": {
        "id": "p6tLeE27ROJ7"
      },
      "execution_count": 38,
      "outputs": []
    },
    {
      "cell_type": "code",
      "source": [
        "attention = F.softmax(scaled, dim=-1)\n",
        "attention.shape\n",
        ""
      ],
      "metadata": {
        "colab": {
          "base_uri": "https://localhost:8080/"
        },
        "id": "9xBZI_OURUDe",
        "outputId": "931c79eb-dccb-474c-c2f5-64d0d504250e"
      },
      "execution_count": 39,
      "outputs": [
        {
          "output_type": "execute_result",
          "data": {
            "text/plain": [
              "torch.Size([1, 8, 4, 4])"
            ]
          },
          "metadata": {},
          "execution_count": 39
        }
      ]
    },
    {
      "cell_type": "code",
      "source": [
        "attention[0][0]"
      ],
      "metadata": {
        "colab": {
          "base_uri": "https://localhost:8080/"
        },
        "id": "A4Aig_pYRkSy",
        "outputId": "4c1bb030-fbc2-4b2a-88b3-047fad807a6b"
      },
      "execution_count": 40,
      "outputs": [
        {
          "output_type": "execute_result",
          "data": {
            "text/plain": [
              "tensor([[1.0000, 0.0000, 0.0000, 0.0000],\n",
              "        [0.6233, 0.3767, 0.0000, 0.0000],\n",
              "        [0.2141, 0.3736, 0.4123, 0.0000],\n",
              "        [0.2816, 0.2397, 0.2470, 0.2317]], grad_fn=<SelectBackward0>)"
            ]
          },
          "metadata": {},
          "execution_count": 40
        }
      ]
    },
    {
      "cell_type": "code",
      "source": [
        "values = torch.matmul(attention, v)\n",
        "values.shape"
      ],
      "metadata": {
        "colab": {
          "base_uri": "https://localhost:8080/"
        },
        "id": "XDB5pUlzRqai",
        "outputId": "ec722626-83f7-4443-f330-568bd0c0c403"
      },
      "execution_count": 41,
      "outputs": [
        {
          "output_type": "execute_result",
          "data": {
            "text/plain": [
              "torch.Size([1, 8, 4, 64])"
            ]
          },
          "metadata": {},
          "execution_count": 41
        }
      ]
    },
    {
      "cell_type": "code",
      "source": [
        "values = values.reshape(batch_size, sequence_length, num_heads * head_dim)\n",
        "values.size()"
      ],
      "metadata": {
        "colab": {
          "base_uri": "https://localhost:8080/"
        },
        "id": "UsZEvVEsRuoQ",
        "outputId": "b276d1d2-7e01-494d-8e7e-e89d4791997e"
      },
      "execution_count": 42,
      "outputs": [
        {
          "output_type": "execute_result",
          "data": {
            "text/plain": [
              "torch.Size([1, 4, 512])"
            ]
          },
          "metadata": {},
          "execution_count": 42
        }
      ]
    },
    {
      "cell_type": "code",
      "source": [
        "print(values[0])\n",
        "print(values[0].shape)"
      ],
      "metadata": {
        "colab": {
          "base_uri": "https://localhost:8080/"
        },
        "id": "XUOnbe0DR6yC",
        "outputId": "c02e097c-2ebd-477a-a754-9b92263cb3e5"
      },
      "execution_count": 46,
      "outputs": [
        {
          "output_type": "stream",
          "name": "stdout",
          "text": [
            "tensor([[ 0.3392,  0.8506,  0.7894,  ...,  0.1253, -0.3526,  0.0862],\n",
            "        [ 0.9196,  1.0252,  0.5046,  ...,  0.3081,  0.0313,  0.1444],\n",
            "        [-0.1941, -0.6401,  0.7461,  ..., -0.4148, -0.2973, -0.4269],\n",
            "        [ 1.0391,  0.1078, -0.2812,  ..., -0.1044,  0.1781,  0.3368]],\n",
            "       grad_fn=<SelectBackward0>)\n",
            "torch.Size([4, 512])\n"
          ]
        }
      ]
    },
    {
      "cell_type": "code",
      "source": [
        "#Single layer neural network\n",
        "#no of neurons=512\n",
        "#shape of weight matrix=512*512\n",
        "#shape of bias=512\n",
        "linear_layer = nn.Linear(d_model, d_model)\n",
        "out = linear_layer(values)\n",
        "out.shape"
      ],
      "metadata": {
        "colab": {
          "base_uri": "https://localhost:8080/"
        },
        "id": "rWSzDeK3SSwQ",
        "outputId": "efe8e2b3-417a-4467-ccdb-2d7e7aacca91"
      },
      "execution_count": 47,
      "outputs": [
        {
          "output_type": "execute_result",
          "data": {
            "text/plain": [
              "torch.Size([1, 4, 512])"
            ]
          },
          "metadata": {},
          "execution_count": 47
        }
      ]
    },
    {
      "cell_type": "markdown",
      "source": [
        "**Application of nn.Linear with dummy example**"
      ],
      "metadata": {
        "id": "92M6NgTLA4ow"
      }
    },
    {
      "cell_type": "code",
      "source": [
        "import torch\n",
        "import torch.nn as nn\n",
        "\n",
        "input_dim = 12\n",
        "d_model = 12\n",
        "\n",
        "\n",
        "qkv = nn.Linear(input_dim, 3 * d_model)\n",
        "\n",
        "# Dummy input tensor with batch size 1,seq_length=2 and input_dim 3\n",
        "\n",
        "#input_tensor = torch.tensor([[1.0, 2.0, 3.0],\n",
        "                             #[4.0, 5.0, 6.0]])\n",
        "\n",
        "input_tensor = torch.randn( (1, 4, 12) )\n",
        "\n",
        "output_tensor = qkv(input_tensor)\n",
        "\n",
        "print(\"Input Tensor:\\n\", input_tensor)\n",
        "print(\"Output Tensor:\\n\", output_tensor)\n",
        "print(output_tensor.size())\n"
      ],
      "metadata": {
        "colab": {
          "base_uri": "https://localhost:8080/"
        },
        "id": "2X9_ht6vA0q8",
        "outputId": "6df03b99-dd32-42df-a0af-8a1147369365"
      },
      "execution_count": 15,
      "outputs": [
        {
          "output_type": "stream",
          "name": "stdout",
          "text": [
            "Input Tensor:\n",
            " tensor([[[ 0.8022, -0.1884, -0.8931, -2.0933,  0.0666,  0.6732, -1.3120,\n",
            "          -0.3557, -1.6046, -0.4721, -0.2258, -1.6859],\n",
            "         [-1.0086,  0.9847, -0.6876, -0.4136, -0.5413,  0.6842,  2.0338,\n",
            "           0.2225, -1.5264,  0.1283, -0.2348, -0.0654],\n",
            "         [-0.4149,  0.5119, -0.6645,  1.4736,  0.4247,  1.5432, -0.2592,\n",
            "           1.3171,  0.7211, -0.5402, -1.3119,  0.5879],\n",
            "         [-1.0680,  1.6208, -0.2315, -0.1335,  0.3222, -0.8278,  1.5371,\n",
            "          -0.2229, -0.5709, -0.4565,  1.1787,  0.9265]]])\n",
            "Output Tensor:\n",
            " tensor([[[ 1.5539e+00,  1.0573e-02, -8.9102e-01, -1.5485e-02,  4.6146e-01,\n",
            "          -2.3809e-01,  8.4603e-01, -7.8856e-01,  1.6504e+00, -5.4058e-01,\n",
            "           1.2570e-01,  1.9832e-01, -4.8110e-01, -7.9320e-02,  1.6361e-02,\n",
            "           9.4122e-01, -4.0650e-02, -1.4946e-01, -4.9681e-02, -3.9152e-01,\n",
            "          -8.1892e-01,  5.4422e-01,  2.0096e-01, -1.8358e+00, -9.5968e-02,\n",
            "          -3.1845e-01,  1.1246e+00, -7.8228e-01,  6.1943e-01, -1.6563e-01,\n",
            "          -7.8625e-02, -8.7064e-01, -2.5935e-01,  1.3599e+00, -1.0208e-01,\n",
            "          -2.9521e-01],\n",
            "         [-1.7820e-01,  2.2090e-01, -1.4614e+00,  6.9698e-01, -4.4897e-02,\n",
            "          -5.2483e-01, -5.1568e-01,  4.0721e-01, -8.7504e-02, -1.1450e+00,\n",
            "           6.8082e-01, -1.3362e-01, -6.7909e-01, -4.1530e-01,  5.0316e-01,\n",
            "           1.4490e-01,  7.3634e-01, -4.4903e-01, -3.9225e-01, -6.1244e-01,\n",
            "           1.5436e-01, -1.1525e+00, -3.0926e-01,  3.9031e-02,  1.0766e+00,\n",
            "          -2.0626e-01, -1.2465e-01, -9.3085e-02, -8.4917e-01, -6.7080e-01,\n",
            "          -2.9274e-01, -8.4575e-01, -3.0291e-01,  8.0883e-01, -1.5542e-01,\n",
            "           6.7297e-01],\n",
            "         [-5.8814e-01, -2.0988e-02, -5.9108e-01, -2.8446e-01,  7.2952e-01,\n",
            "           4.1693e-01,  3.0688e-01,  1.4667e-01, -5.3120e-01,  1.0709e-02,\n",
            "          -5.2382e-02, -1.2858e+00, -1.0441e-01,  2.8372e-02, -4.5762e-01,\n",
            "          -5.4563e-02,  2.9938e-01,  1.1359e+00,  5.0288e-01, -2.3482e-01,\n",
            "           2.4365e-01,  3.5817e-01, -6.1908e-04, -1.8305e-01, -4.9686e-01,\n",
            "           2.8856e-01,  1.3618e-01, -9.9603e-02, -1.2421e+00, -6.5255e-01,\n",
            "          -1.7716e-01,  8.6994e-01,  1.2125e-01,  4.1705e-01, -6.6070e-01,\n",
            "          -6.9786e-02],\n",
            "         [-4.2552e-01,  3.8116e-01, -4.4117e-01,  1.0736e+00, -1.4150e-01,\n",
            "          -1.0826e+00, -7.8051e-01,  2.7395e-01,  3.0793e-01, -8.0654e-01,\n",
            "          -1.1095e-02, -6.0150e-02, -6.9312e-02, -1.0701e+00, -2.0227e-01,\n",
            "          -1.5895e-01,  1.1186e+00, -7.9802e-01, -3.0755e-01, -9.3826e-02,\n",
            "           2.4171e-01, -6.4512e-01, -6.9922e-01,  6.6789e-01,  1.0348e+00,\n",
            "           3.0109e-01,  3.7252e-02, -2.4593e-02, -6.6054e-01,  2.7753e-01,\n",
            "          -4.3472e-01, -3.4543e-01, -3.2731e-01,  2.3905e-01,  3.0758e-01,\n",
            "          -5.1205e-01]]], grad_fn=<ViewBackward0>)\n",
            "torch.Size([1, 4, 36])\n"
          ]
        }
      ]
    },
    {
      "cell_type": "code",
      "source": [
        "num_heads = 3\n",
        "head_dim = 12 // num_heads\n",
        "output_tensor = output_tensor.reshape(1, 4, num_heads, 3 * head_dim)\n",
        "output_tensor.shape"
      ],
      "metadata": {
        "colab": {
          "base_uri": "https://localhost:8080/"
        },
        "id": "OmzdBUIiFnso",
        "outputId": "4890777c-b2ae-4fd3-d559-484f8705820a"
      },
      "execution_count": 18,
      "outputs": [
        {
          "output_type": "execute_result",
          "data": {
            "text/plain": [
              "torch.Size([1, 4, 3, 12])"
            ]
          },
          "metadata": {},
          "execution_count": 18
        }
      ]
    },
    {
      "cell_type": "code",
      "source": [
        "output_tensor = output_tensor.permute(0, 2, 1, 3) # [batch_size, num_heads, sequence_length, 3*head_dim]\n",
        "output_tensor.shape"
      ],
      "metadata": {
        "colab": {
          "base_uri": "https://localhost:8080/"
        },
        "id": "7oXoI1n7Akf7",
        "outputId": "1e6e7680-9bd2-4f7d-c1b9-fb4adf294401"
      },
      "execution_count": 26,
      "outputs": [
        {
          "output_type": "execute_result",
          "data": {
            "text/plain": [
              "torch.Size([1, 3, 4, 12])"
            ]
          },
          "metadata": {},
          "execution_count": 26
        }
      ]
    },
    {
      "cell_type": "code",
      "source": [
        "output_tensor"
      ],
      "metadata": {
        "colab": {
          "base_uri": "https://localhost:8080/"
        },
        "id": "aF6Bjsz8OaAL",
        "outputId": "4dbfa327-35a5-4926-eac5-553245cebc8d"
      },
      "execution_count": 27,
      "outputs": [
        {
          "output_type": "execute_result",
          "data": {
            "text/plain": [
              "tensor([[[[ 1.5539e+00,  1.0573e-02, -8.9102e-01, -1.5485e-02,  4.6146e-01,\n",
              "           -2.3809e-01,  8.4603e-01, -7.8856e-01,  1.6504e+00, -5.4058e-01,\n",
              "            1.2570e-01,  1.9832e-01],\n",
              "          [-1.7820e-01,  2.2090e-01, -1.4614e+00,  6.9698e-01, -4.4897e-02,\n",
              "           -5.2483e-01, -5.1568e-01,  4.0721e-01, -8.7504e-02, -1.1450e+00,\n",
              "            6.8082e-01, -1.3362e-01],\n",
              "          [-5.8814e-01, -2.0988e-02, -5.9108e-01, -2.8446e-01,  7.2952e-01,\n",
              "            4.1693e-01,  3.0688e-01,  1.4667e-01, -5.3120e-01,  1.0709e-02,\n",
              "           -5.2382e-02, -1.2858e+00],\n",
              "          [-4.2552e-01,  3.8116e-01, -4.4117e-01,  1.0736e+00, -1.4150e-01,\n",
              "           -1.0826e+00, -7.8051e-01,  2.7395e-01,  3.0793e-01, -8.0654e-01,\n",
              "           -1.1095e-02, -6.0150e-02]],\n",
              "\n",
              "         [[-4.8110e-01, -7.9320e-02,  1.6361e-02,  9.4122e-01, -4.0650e-02,\n",
              "           -1.4946e-01, -4.9681e-02, -3.9152e-01, -8.1892e-01,  5.4422e-01,\n",
              "            2.0096e-01, -1.8358e+00],\n",
              "          [-6.7909e-01, -4.1530e-01,  5.0316e-01,  1.4490e-01,  7.3634e-01,\n",
              "           -4.4903e-01, -3.9225e-01, -6.1244e-01,  1.5436e-01, -1.1525e+00,\n",
              "           -3.0926e-01,  3.9031e-02],\n",
              "          [-1.0441e-01,  2.8372e-02, -4.5762e-01, -5.4563e-02,  2.9938e-01,\n",
              "            1.1359e+00,  5.0288e-01, -2.3482e-01,  2.4365e-01,  3.5817e-01,\n",
              "           -6.1908e-04, -1.8305e-01],\n",
              "          [-6.9312e-02, -1.0701e+00, -2.0227e-01, -1.5895e-01,  1.1186e+00,\n",
              "           -7.9802e-01, -3.0755e-01, -9.3826e-02,  2.4171e-01, -6.4512e-01,\n",
              "           -6.9922e-01,  6.6789e-01]],\n",
              "\n",
              "         [[-9.5968e-02, -3.1845e-01,  1.1246e+00, -7.8228e-01,  6.1943e-01,\n",
              "           -1.6563e-01, -7.8625e-02, -8.7064e-01, -2.5935e-01,  1.3599e+00,\n",
              "           -1.0208e-01, -2.9521e-01],\n",
              "          [ 1.0766e+00, -2.0626e-01, -1.2465e-01, -9.3085e-02, -8.4917e-01,\n",
              "           -6.7080e-01, -2.9274e-01, -8.4575e-01, -3.0291e-01,  8.0883e-01,\n",
              "           -1.5542e-01,  6.7297e-01],\n",
              "          [-4.9686e-01,  2.8856e-01,  1.3618e-01, -9.9603e-02, -1.2421e+00,\n",
              "           -6.5255e-01, -1.7716e-01,  8.6994e-01,  1.2125e-01,  4.1705e-01,\n",
              "           -6.6070e-01, -6.9786e-02],\n",
              "          [ 1.0348e+00,  3.0109e-01,  3.7252e-02, -2.4593e-02, -6.6054e-01,\n",
              "            2.7753e-01, -4.3472e-01, -3.4543e-01, -3.2731e-01,  2.3905e-01,\n",
              "            3.0758e-01, -5.1205e-01]]]], grad_fn=<PermuteBackward0>)"
            ]
          },
          "metadata": {},
          "execution_count": 27
        }
      ]
    },
    {
      "cell_type": "markdown",
      "source": [
        "![image.png](data:image/png;base64,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)"
      ],
      "metadata": {
        "id": "VaJst07qVptb"
      }
    },
    {
      "cell_type": "code",
      "source": [
        "query,key,value=output_tensor.chunk(3, dim=-1)\n",
        "query.shape, key.shape, value.shape"
      ],
      "metadata": {
        "colab": {
          "base_uri": "https://localhost:8080/"
        },
        "id": "AG-YreGmPKTX",
        "outputId": "29bf3191-359a-4080-9517-ecf9b3852be7"
      },
      "execution_count": 29,
      "outputs": [
        {
          "output_type": "execute_result",
          "data": {
            "text/plain": [
              "(torch.Size([1, 3, 4, 4]), torch.Size([1, 3, 4, 4]), torch.Size([1, 3, 4, 4]))"
            ]
          },
          "metadata": {},
          "execution_count": 29
        }
      ]
    },
    {
      "cell_type": "markdown",
      "source": [
        "**Modularization**"
      ],
      "metadata": {
        "id": "J6uPyrKdXCZA"
      }
    },
    {
      "cell_type": "code",
      "source": [
        "import torch\n",
        "import torch.nn as nn\n",
        "import math\n",
        "\n",
        "def scaled_dot_product(q, k, v, mask=None):\n",
        "    d_k = q.size()[-1]\n",
        "    scaled = torch.matmul(q, k.transpose(-1, -2)) / math.sqrt(d_k)\n",
        "    if mask is not None:\n",
        "        scaled += mask\n",
        "    attention = F.softmax(scaled, dim=-1)\n",
        "    values = torch.matmul(attention, v)\n",
        "    return values, attention\n",
        "\n",
        "class MultiheadAttention(nn.Module):\n",
        "\n",
        "    def __init__(self, input_dim, d_model, num_heads):\n",
        "        super().__init__()\n",
        "        self.input_dim = input_dim\n",
        "        self.d_model = d_model\n",
        "        self.num_heads = num_heads\n",
        "        self.head_dim = d_model // num_heads\n",
        "        self.qkv_layer = nn.Linear(input_dim , 3 * d_model)\n",
        "        self.linear_layer = nn.Linear(d_model, d_model)\n",
        "\n",
        "    def forward(self, x, mask=None):\n",
        "        batch_size, sequence_length, input_dim = x.size()\n",
        "        print(f\"x.size(): {x.size()}\")\n",
        "        qkv = self.qkv_layer(x)\n",
        "        print(f\"qkv.size(): {qkv.size()}\")\n",
        "        qkv = qkv.reshape(batch_size, sequence_length, self.num_heads, 3 * self.head_dim)\n",
        "        print(f\"qkv.size(): {qkv.size()}\")\n",
        "        qkv = qkv.permute(0, 2, 1, 3)\n",
        "        print(f\"qkv.size(): {qkv.size()}\")\n",
        "        q, k, v = qkv.chunk(3, dim=-1)\n",
        "        print(f\"q size: {q.size()}, k size: {k.size()}, v size: {v.size()}, \")\n",
        "        values, attention = scaled_dot_product(q, k, v, mask)\n",
        "        print(f\"values.size(): {values.size()}, attention.size:{ attention.size()} \")\n",
        "        values = values.reshape(batch_size, sequence_length, self.num_heads * self.head_dim)\n",
        "        print(f\"values.size(): {values.size()}\")\n",
        "        out = self.linear_layer(values)\n",
        "        print(f\"out.size(): {out.size()}\")\n",
        "        return out\n"
      ],
      "metadata": {
        "id": "ZCd_gwS7Pmrt"
      },
      "execution_count": 48,
      "outputs": []
    },
    {
      "cell_type": "code",
      "source": [
        "input_dim = 1024\n",
        "d_model = 512\n",
        "num_heads = 8\n",
        "\n",
        "batch_size = 30\n",
        "sequence_length = 5\n",
        "x = torch.randn( (batch_size, sequence_length, input_dim) )\n",
        "\n",
        "model = MultiheadAttention(input_dim, d_model, num_heads)\n",
        "out = model.forward(x)\n",
        ""
      ],
      "metadata": {
        "colab": {
          "base_uri": "https://localhost:8080/"
        },
        "id": "7Jq6XktkXHI1",
        "outputId": "76166e8a-0912-4aa1-cc6d-535024aa61ac"
      },
      "execution_count": 49,
      "outputs": [
        {
          "output_type": "stream",
          "name": "stdout",
          "text": [
            "x.size(): torch.Size([30, 5, 1024])\n",
            "qkv.size(): torch.Size([30, 5, 1536])\n",
            "qkv.size(): torch.Size([30, 5, 8, 192])\n",
            "qkv.size(): torch.Size([30, 8, 5, 192])\n",
            "q size: torch.Size([30, 8, 5, 64]), k size: torch.Size([30, 8, 5, 64]), v size: torch.Size([30, 8, 5, 64]), \n",
            "values.size(): torch.Size([30, 8, 5, 64]), attention.size:torch.Size([30, 8, 5, 5]) \n",
            "values.size(): torch.Size([30, 5, 512])\n",
            "out.size(): torch.Size([30, 5, 512])\n"
          ]
        }
      ]
    }
  ]
}