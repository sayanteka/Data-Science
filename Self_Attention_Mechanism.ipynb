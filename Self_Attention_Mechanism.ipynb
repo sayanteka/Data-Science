{
  "nbformat": 4,
  "nbformat_minor": 0,
  "metadata": {
    "colab": {
      "provenance": []
    },
    "kernelspec": {
      "name": "python3",
      "display_name": "Python 3"
    },
    "language_info": {
      "name": "python"
    }
  },
  "cells": [
    {
      "cell_type": "markdown",
      "source": [
        "**Self Attention Mechanism**"
      ],
      "metadata": {
        "id": "C3WfiAqEuYi3"
      }
    },
    {
      "cell_type": "code",
      "execution_count": 1,
      "metadata": {
        "id": "Bygoc5EDnyRw"
      },
      "outputs": [],
      "source": [
        "import numpy as np\n",
        "import torch\n",
        "import torch.nn as nn\n",
        "import torch.nn.functional as F"
      ]
    },
    {
      "cell_type": "code",
      "source": [
        "sequence_length = 4  #max seq length #no.  of rows\n",
        "batch_size = 1\n",
        "input_dim = 512 #embedding dim\n",
        "d_model = 512\n",
        "\n",
        "#This function generates random numbers from a standard normal distribution.\n",
        "x = torch.randn( (batch_size, sequence_length, input_dim) )\n",
        "print(x)\n",
        "print(x.size())\n",
        "\n",
        "#print dim of first word in 1st batch\n",
        "#print(x[0][0])\n",
        "\n",
        "#print dim of second word in 1st batch\n",
        "#print(x[0][1])\n",
        "\n",
        "\n"
      ],
      "metadata": {
        "colab": {
          "base_uri": "https://localhost:8080/"
        },
        "id": "5TBgRcQbqDzI",
        "outputId": "03a759da-b8a0-4431-db84-d8203f8abdb1"
      },
      "execution_count": 2,
      "outputs": [
        {
          "output_type": "stream",
          "name": "stdout",
          "text": [
            "tensor([[[ 1.2452,  0.0043,  1.6617,  ..., -1.3733,  0.2543,  1.6301],\n",
            "         [-1.8234, -0.7845,  1.6987,  ...,  0.2537,  0.1681,  0.7965],\n",
            "         [ 0.1875,  1.3582,  0.8689,  ..., -0.7179, -0.9416, -0.9509],\n",
            "         [ 0.0726, -0.2463,  0.9821,  ..., -0.7740, -0.7239, -0.0095]]])\n",
            "torch.Size([1, 4, 512])\n"
          ]
        }
      ]
    },
    {
      "cell_type": "code",
      "source": [
        "#Query vector, key vector, Value vector\n",
        "\n",
        "q = torch.randn(sequence_length, input_dim)\n",
        "k = torch.randn(sequence_length, input_dim)\n",
        "v = torch.randn(sequence_length, input_dim)\n"
      ],
      "metadata": {
        "id": "f-xiLwCQteM0"
      },
      "execution_count": 3,
      "outputs": []
    },
    {
      "cell_type": "code",
      "source": [
        "print(q)"
      ],
      "metadata": {
        "colab": {
          "base_uri": "https://localhost:8080/"
        },
        "id": "GaMuw9HmvEoW",
        "outputId": "a49e5228-8d68-4d93-c17e-db0ad079a274"
      },
      "execution_count": 4,
      "outputs": [
        {
          "output_type": "stream",
          "name": "stdout",
          "text": [
            "tensor([[ 0.6361, -1.6860,  1.1788,  ..., -1.7118, -0.2765,  0.0161],\n",
            "        [ 0.0627,  1.3703, -1.6070,  ..., -1.2944, -0.3246, -0.2303],\n",
            "        [ 0.5276, -0.5624,  1.2528,  ...,  0.2700, -1.5294,  1.5218],\n",
            "        [-0.9065, -0.2774,  1.1781,  ...,  0.5973, -0.0455,  0.8183]])\n"
          ]
        }
      ]
    },
    {
      "cell_type": "markdown",
      "source": [
        "![image.png](data:image/png;base64,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)"
      ],
      "metadata": {
        "id": "zU4E6RAqv36D"
      }
    },
    {
      "cell_type": "code",
      "source": [
        "q.size()"
      ],
      "metadata": {
        "colab": {
          "base_uri": "https://localhost:8080/"
        },
        "id": "hh-hnIgARP3g",
        "outputId": "e5434043-ecb3-4eaf-cc96-6169323fa602"
      },
      "execution_count": 7,
      "outputs": [
        {
          "output_type": "execute_result",
          "data": {
            "text/plain": [
              "torch.Size([4, 512])"
            ]
          },
          "metadata": {},
          "execution_count": 7
        }
      ]
    },
    {
      "cell_type": "markdown",
      "source": [
        "**In the above formula M is a mask vector. Applicable for decoder.**"
      ],
      "metadata": {
        "id": "sZ4KmYGiwH3M"
      }
    },
    {
      "cell_type": "code",
      "source": [
        "torch.matmul(q, k.T) #q=4*512 #k=512*4 #output=4*4"
      ],
      "metadata": {
        "id": "bauoqBk0vPqi",
        "colab": {
          "base_uri": "https://localhost:8080/"
        },
        "outputId": "6901eb52-a04f-45db-8beb-55df020b6aac"
      },
      "execution_count": 5,
      "outputs": [
        {
          "output_type": "execute_result",
          "data": {
            "text/plain": [
              "tensor([[ -4.0415, -17.8775,  17.9149, -41.1372],\n",
              "        [ 19.5376,  -5.7166, -25.4592, -12.8630],\n",
              "        [  2.2795,  16.9563,   3.9147,  -7.7141],\n",
              "        [ 19.0931, -32.2232, -37.0650, -50.1389]])"
            ]
          },
          "metadata": {},
          "execution_count": 5
        }
      ]
    },
    {
      "cell_type": "code",
      "source": [
        "q.var(), k.var(), torch.matmul(q, k.T).var() #torch can be replaced with np as well\n",
        ""
      ],
      "metadata": {
        "colab": {
          "base_uri": "https://localhost:8080/"
        },
        "id": "cEyFu_htQ-PK",
        "outputId": "a62d1f25-376e-455b-9a97-1c868ebb869b"
      },
      "execution_count": 8,
      "outputs": [
        {
          "output_type": "execute_result",
          "data": {
            "text/plain": [
              "(tensor(1.0317), tensor(0.9963), tensor(516.1777))"
            ]
          },
          "metadata": {},
          "execution_count": 8
        }
      ]
    },
    {
      "cell_type": "code",
      "source": [
        "import math\n",
        "#overall magnitude is controlled by scaling\n",
        "scaled = torch.matmul(q, k.T) / math.sqrt(d_model)\n",
        "q.var(), k.var(), scaled.var()"
      ],
      "metadata": {
        "colab": {
          "base_uri": "https://localhost:8080/"
        },
        "id": "2SAnSJR7SBRR",
        "outputId": "459f1c52-c058-4740-f340-0850f025f092"
      },
      "execution_count": 10,
      "outputs": [
        {
          "output_type": "execute_result",
          "data": {
            "text/plain": [
              "(tensor(1.0317), tensor(0.9963), tensor(1.0082))"
            ]
          },
          "metadata": {},
          "execution_count": 10
        }
      ]
    },
    {
      "cell_type": "code",
      "source": [
        "scaled"
      ],
      "metadata": {
        "colab": {
          "base_uri": "https://localhost:8080/"
        },
        "id": "O8JU6dd0UG6x",
        "outputId": "524608e4-4894-40cd-d2f5-abda67a6e72f"
      },
      "execution_count": 11,
      "outputs": [
        {
          "output_type": "execute_result",
          "data": {
            "text/plain": [
              "tensor([[-0.1786, -0.7901,  0.7917, -1.8180],\n",
              "        [ 0.8634, -0.2526, -1.1251, -0.5685],\n",
              "        [ 0.1007,  0.7494,  0.1730, -0.3409],\n",
              "        [ 0.8438, -1.4241, -1.6381, -2.2158]])"
            ]
          },
          "metadata": {},
          "execution_count": 11
        }
      ]
    },
    {
      "cell_type": "markdown",
      "source": [
        "**Masking in case of decoder architecture**\n"
      ],
      "metadata": {
        "id": "2Zr5F0QbU2B5"
      }
    },
    {
      "cell_type": "code",
      "source": [
        "#Preceding words are unmasked, while succeeding words are masked. # Decoder logic\n",
        "mask = torch.tril(torch.ones( (sequence_length, sequence_length) ))\n",
        "mask"
      ],
      "metadata": {
        "colab": {
          "base_uri": "https://localhost:8080/"
        },
        "id": "d9oVSR4mSz4Q",
        "outputId": "50090392-57a9-441f-cfbc-5db4cb0ff895"
      },
      "execution_count": 18,
      "outputs": [
        {
          "output_type": "execute_result",
          "data": {
            "text/plain": [
              "tensor([[1., 0., 0., 0.],\n",
              "        [1., 1., 0., 0.],\n",
              "        [1., 1., 1., 0.],\n",
              "        [1., 1., 1., 1.]])"
            ]
          },
          "metadata": {},
          "execution_count": 18
        }
      ]
    },
    {
      "cell_type": "code",
      "source": [
        "mask[mask == 0] = -np.infty\n",
        "mask[mask == 1] = 0\n",
        "mask"
      ],
      "metadata": {
        "colab": {
          "base_uri": "https://localhost:8080/"
        },
        "id": "HAOYRrv9V2d9",
        "outputId": "2852709f-5e48-46d5-a5fb-54df4bc1494f"
      },
      "execution_count": 19,
      "outputs": [
        {
          "output_type": "execute_result",
          "data": {
            "text/plain": [
              "tensor([[0., -inf, -inf, -inf],\n",
              "        [0., 0., -inf, -inf],\n",
              "        [0., 0., 0., -inf],\n",
              "        [0., 0., 0., 0.]])"
            ]
          },
          "metadata": {},
          "execution_count": 19
        }
      ]
    },
    {
      "cell_type": "code",
      "source": [
        "scaled + mask"
      ],
      "metadata": {
        "colab": {
          "base_uri": "https://localhost:8080/"
        },
        "id": "qtFMXnLnWFIL",
        "outputId": "f2065e8c-2be3-473c-eb56-dd2674e094d8"
      },
      "execution_count": 20,
      "outputs": [
        {
          "output_type": "execute_result",
          "data": {
            "text/plain": [
              "tensor([[-0.1786,    -inf,    -inf,    -inf],\n",
              "        [ 0.8634, -0.2526,    -inf,    -inf],\n",
              "        [ 0.1007,  0.7494,  0.1730,    -inf],\n",
              "        [ 0.8438, -1.4241, -1.6381, -2.2158]])"
            ]
          },
          "metadata": {},
          "execution_count": 20
        }
      ]
    },
    {
      "cell_type": "markdown",
      "source": [
        "**Softmax**"
      ],
      "metadata": {
        "id": "0Zxby_iQYe5g"
      }
    },
    {
      "cell_type": "markdown",
      "source": [
        "In a 2D tensor  rows represent samples and columns represent features(embedding features/dim)"
      ],
      "metadata": {
        "id": "f9hkxbbJbRLU"
      }
    },
    {
      "cell_type": "markdown",
      "source": [
        "[[1.0, 2.0, 3.0],\n",
        "\n",
        " [4.0, 5.0, 6.0]]\n"
      ],
      "metadata": {
        "id": "vlK1W4p0cNKg"
      }
    },
    {
      "cell_type": "markdown",
      "source": [
        "After Transposing:\n",
        "\n",
        "[[1.0, 4.0],\n",
        "\n",
        " [2.0, 5.0],\n",
        "\n",
        " [3.0, 6.0]]\n"
      ],
      "metadata": {
        "id": "XZqS_3CvcVU0"
      }
    },
    {
      "cell_type": "markdown",
      "source": [
        "[[e^1.0, e^4.0],\n",
        "\n",
        " [e^2.0, e^5.0],\n",
        "\n",
        " [e^3.0, e^6.0]]\n"
      ],
      "metadata": {
        "id": "tEuEPPkcc0mN"
      }
    },
    {
      "cell_type": "markdown",
      "source": [
        "[[e^1.0 / (e^1.0 + e^4.0),\n",
        "  e^4.0 / (e^1.0 + e^4.0)],\n",
        "\n",
        " [e^2.0 / (e^2.0 + e^5.0),\n",
        "  e^5.0 / (e^2.0 + e^5.0)],\n",
        "  \n",
        " [e^3.0 / (e^3.0 + e^6.0),\n",
        "  e^6.0 / (e^3.0 + e^6.0)]]\n"
      ],
      "metadata": {
        "id": "IasSnlR5c7Ik"
      }
    },
    {
      "cell_type": "markdown",
      "source": [
        "\n",
        "Transpose back\n",
        "\n",
        "[[0.09003057, 0.24472848, 0.66524195],\n",
        "\n",
        " [0.09003057, 0.24472848, 0.66524195]]\n"
      ],
      "metadata": {
        "id": "xR5TMEEudP9I"
      }
    },
    {
      "cell_type": "code",
      "source": [
        "def softmax(x):\n",
        "  return (torch.exp(x).T / torch.sum(np.exp(x), axis=-1)).T"
      ],
      "metadata": {
        "id": "wXNfCZZ0XZf8"
      },
      "execution_count": 21,
      "outputs": []
    },
    {
      "cell_type": "code",
      "source": [
        "#prob distribution should be summed to 1\n",
        "attention = softmax(scaled + mask)"
      ],
      "metadata": {
        "id": "YUz3zWA9ZcJ4"
      },
      "execution_count": 23,
      "outputs": []
    },
    {
      "cell_type": "code",
      "source": [
        "attention"
      ],
      "metadata": {
        "colab": {
          "base_uri": "https://localhost:8080/"
        },
        "id": "RMFbqvIhZdjE",
        "outputId": "fd89cb74-838d-454e-98d9-ec0f313b38b1"
      },
      "execution_count": 24,
      "outputs": [
        {
          "output_type": "execute_result",
          "data": {
            "text/plain": [
              "tensor([[1.0000, 0.0000, 0.0000, 0.0000],\n",
              "        [0.7533, 0.2467, 0.0000, 0.0000],\n",
              "        [0.2508, 0.4797, 0.2696, 0.0000],\n",
              "        [0.8104, 0.0839, 0.0677, 0.0380]])"
            ]
          },
          "metadata": {},
          "execution_count": 24
        }
      ]
    },
    {
      "cell_type": "code",
      "source": [
        "new_v = torch.matmul(attention, v)\n",
        "new_v"
      ],
      "metadata": {
        "colab": {
          "base_uri": "https://localhost:8080/"
        },
        "id": "ZotfafD7daNL",
        "outputId": "fd96f641-91e9-43f5-b6ec-b55fc77d9620"
      },
      "execution_count": 25,
      "outputs": [
        {
          "output_type": "execute_result",
          "data": {
            "text/plain": [
              "tensor([[-1.1162, -0.6294,  2.0212,  ..., -0.6809, -0.1823, -0.1665],\n",
              "        [-1.0013, -1.0173,  1.6490,  ..., -0.6599, -0.0806, -0.2107],\n",
              "        [-0.4796, -1.0707,  0.8773,  ..., -0.2362,  0.1940, -0.3574],\n",
              "        [-0.9019, -0.6375,  1.7149,  ..., -0.5525, -0.1039, -0.1430]])"
            ]
          },
          "metadata": {},
          "execution_count": 25
        }
      ]
    },
    {
      "cell_type": "code",
      "source": [
        "print(q.shape[-1]) #4*512\n",
        "print(k.shape[-1])\n",
        "print(v.shape[-1])"
      ],
      "metadata": {
        "colab": {
          "base_uri": "https://localhost:8080/"
        },
        "id": "VJ7p5H7BeKNV",
        "outputId": "54f67f6c-515c-4610-c45b-ec575a48a5c1"
      },
      "execution_count": 27,
      "outputs": [
        {
          "output_type": "stream",
          "name": "stdout",
          "text": [
            "512\n",
            "512\n",
            "512\n"
          ]
        }
      ]
    },
    {
      "cell_type": "markdown",
      "source": [
        "**Writing Function for the same**"
      ],
      "metadata": {
        "id": "cihHfWgodzRi"
      }
    },
    {
      "cell_type": "markdown",
      "source": [],
      "metadata": {
        "id": "_mUb00BRfAIH"
      }
    },
    {
      "cell_type": "code",
      "source": [
        "#torch can be replaced with np\n",
        "def softmax(x):\n",
        "  return (torch.exp(x).T / torch.sum(np.exp(x), axis=-1)).T\n",
        "\n",
        "def scaled_dot_product_attention(q, k, v, mask=None): #mask=none for encoder and not none for decoder\n",
        "  d_k = q.shape[-1]\n",
        "  scaled = torch.matmul(q, k.T) / math.sqrt(d_k)\n",
        "  if mask is not None:\n",
        "    scaled = scaled + mask\n",
        "  attention = softmax(scaled)\n",
        "  out = torch.matmul(attention, v)\n",
        "  return out\n",
        ""
      ],
      "metadata": {
        "id": "v_8GVSBcdy4L"
      },
      "execution_count": 32,
      "outputs": []
    },
    {
      "cell_type": "code",
      "source": [
        "out=scaled_dot_product_attention(q,k,v,mask=mask)\n",
        "print(out)"
      ],
      "metadata": {
        "colab": {
          "base_uri": "https://localhost:8080/"
        },
        "id": "frZ-ajkledVC",
        "outputId": "089d9b86-ceb9-4d98-8bb5-0e31c580750f"
      },
      "execution_count": 33,
      "outputs": [
        {
          "output_type": "stream",
          "name": "stdout",
          "text": [
            "tensor([[-1.1162, -0.6294,  2.0212,  ..., -0.6809, -0.1823, -0.1665],\n",
            "        [-1.0013, -1.0173,  1.6490,  ..., -0.6599, -0.0806, -0.2107],\n",
            "        [-0.4796, -1.0707,  0.8773,  ..., -0.2362,  0.1940, -0.3574],\n",
            "        [-0.9019, -0.6375,  1.7149,  ..., -0.5525, -0.1039, -0.1430]])\n"
          ]
        }
      ]
    }
  ]
}